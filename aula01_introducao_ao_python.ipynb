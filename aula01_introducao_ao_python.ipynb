{
  "nbformat": 4,
  "nbformat_minor": 0,
  "metadata": {
    "colab": {
      "name": "aula01_introducao_ao_python.ipynb",
      "provenance": [],
      "collapsed_sections": [],
      "mount_file_id": "1LqIf5DoydF5BYXvlYqzeAyJWAMn2_rtw",
      "authorship_tag": "ABX9TyOQIapavQAGV1yMsrynIbfC",
      "include_colab_link": true
    },
    "kernelspec": {
      "name": "python3",
      "display_name": "Python 3"
    },
    "language_info": {
      "name": "python"
    }
  },
  "cells": [
    {
      "cell_type": "markdown",
      "metadata": {
        "id": "view-in-github",
        "colab_type": "text"
      },
      "source": [
        "<a href=\"https://colab.research.google.com/github/ramon-campos/python-numpy/blob/main/aula01_introducao_ao_python.ipynb\" target=\"_parent\"><img src=\"https://colab.research.google.com/assets/colab-badge.svg\" alt=\"Open In Colab\"/></a>"
      ]
    },
    {
      "cell_type": "markdown",
      "metadata": {
        "id": "umSz9TLxltjG"
      },
      "source": [
        "# **Introdução ao Python**"
      ]
    },
    {
      "cell_type": "markdown",
      "metadata": {
        "id": "gSnX12-sltjH"
      },
      "source": [
        "## Introdução"
      ]
    },
    {
      "cell_type": "markdown",
      "metadata": {
        "id": "SRG_k55kltjI"
      },
      "source": [
        "Python é uma linguagem de programação de alto nível com suporte a múltiplos paradigmas de programação. É um projeto *Open Source* e, desde o seu surgimento, em 1991, vem se tornando uma das linguagens de programação interpretadas mais populares. \n",
        "\n",
        "Nos últimos anos, Python desenvolveu uma comunidade ativa de processamento científico e análise de dados e vem se destacando como uma das linguagens mais relevantes quando o assunto é **ciência de dados** e **machine learning**, tanto no ambiente acadêmico como também no mercado."
      ]
    },
    {
      "cell_type": "markdown",
      "metadata": {
        "id": "2oZuKvWkltjJ"
      },
      "source": [
        "## Instalação e Ambiente de Desenvolvimento"
      ]
    },
    {
      "cell_type": "markdown",
      "metadata": {
        "id": "v4P8bMEIltjK"
      },
      "source": [
        "### Instalação Local"
      ]
    },
    {
      "cell_type": "markdown",
      "source": [
        "O Python pode ser instalado localmente ao fazer o download através do [site oficial](https://www.python.org/downloads/), ou instalado juntamente com o [Anaconda](https://www.anaconda.com/distribution/)."
      ],
      "metadata": {
        "id": "lBGPj0uPYzr9"
      }
    },
    {
      "cell_type": "markdown",
      "metadata": {
        "id": "FZtu5tjrltjL"
      },
      "source": [
        "### Google Colaboratory"
      ]
    },
    {
      "cell_type": "markdown",
      "source": [
        "Também é possível utilizar o [Google Colaboratory](https://colab.research.google.com), uma ferramenta da Google para escrever e executar códigos em Python diretamente do navegador."
      ],
      "metadata": {
        "id": "dEdihpRqY4Y5"
      }
    },
    {
      "cell_type": "markdown",
      "metadata": {
        "id": "C6vbfq8DltjM"
      },
      "source": [
        "### Verificando a Versão do Python"
      ]
    },
    {
      "cell_type": "markdown",
      "source": [
        "A versão do Python pode ser verificada de duas maneiras:"
      ],
      "metadata": {
        "id": "W-STsrKxnPRS"
      }
    },
    {
      "cell_type": "code",
      "metadata": {
        "id": "jeuAt-4NltjM",
        "colab": {
          "base_uri": "https://localhost:8080/"
        },
        "outputId": "156661ad-6c95-4771-8778-504440b22f0c"
      },
      "source": [
        "!python -V"
      ],
      "execution_count": 1,
      "outputs": [
        {
          "output_type": "stream",
          "name": "stdout",
          "text": [
            "Python 3.7.13\n"
          ]
        }
      ]
    },
    {
      "cell_type": "code",
      "source": [
        "!python --version"
      ],
      "metadata": {
        "colab": {
          "base_uri": "https://localhost:8080/"
        },
        "id": "QPhqqWLpnfre",
        "outputId": "5887b1cf-8a43-4d52-c698-4b80a849c467"
      },
      "execution_count": 2,
      "outputs": [
        {
          "output_type": "stream",
          "name": "stdout",
          "text": [
            "Python 3.7.13\n"
          ]
        }
      ]
    },
    {
      "cell_type": "markdown",
      "metadata": {
        "id": "v86aEyR2ltjR"
      },
      "source": [
        "## Trabalhando com Arrays Numpy"
      ]
    },
    {
      "cell_type": "markdown",
      "source": [
        "Numpy é a abreviação de *Numerical Python* e é um dos pacotes mais importantes para processamento numérico em Python.\n",
        "\n",
        "O pacote Numpy possui um poderoso objeto *array* multidimensional, que nos permite realizar um conjunto bastante amplo de operações numéricas, sem a necessidade de utilização de laços `for`."
      ],
      "metadata": {
        "id": "m0SDyVsIoLid"
      }
    },
    {
      "cell_type": "markdown",
      "source": [
        "Importando o pacote NumPy:"
      ],
      "metadata": {
        "id": "8O28hkv_o2Lf"
      }
    },
    {
      "cell_type": "code",
      "source": [
        "import numpy as np"
      ],
      "metadata": {
        "id": "VXBlivo3nz9M"
      },
      "execution_count": 1,
      "outputs": []
    },
    {
      "cell_type": "markdown",
      "source": [
        "Atribuindo à variável `km` o conteúdo do arquivo *carros-km.txt* após o seu upload:"
      ],
      "metadata": {
        "id": "Zcb_ACjIo63z"
      }
    },
    {
      "cell_type": "code",
      "source": [
        "km = np.loadtxt('carros-km.txt')"
      ],
      "metadata": {
        "id": "LLE-u459n5sZ"
      },
      "execution_count": 2,
      "outputs": []
    },
    {
      "cell_type": "markdown",
      "source": [
        "Verificando a variável `km` após a atribuição:"
      ],
      "metadata": {
        "id": "j-8_LksOpagl"
      }
    },
    {
      "cell_type": "code",
      "source": [
        "print(km)"
      ],
      "metadata": {
        "colab": {
          "base_uri": "https://localhost:8080/"
        },
        "id": "_39azBewpxEE",
        "outputId": "650368ed-d1e0-45ac-8a47-2944293bba21"
      },
      "execution_count": 22,
      "outputs": [
        {
          "output_type": "stream",
          "name": "stdout",
          "text": [
            "[4.44100e+04 5.71200e+03 3.71230e+04 0.00000e+00 2.57570e+04 1.07280e+04\n",
            " 0.00000e+00 7.75990e+04 9.91970e+04 3.79780e+04 1.28590e+04 8.05200e+03\n",
            " 8.97730e+04 0.00000e+00 4.14570e+04 1.15607e+05 4.64490e+04 0.00000e+00\n",
            " 3.70860e+04 1.51730e+04 1.01193e+05 0.00000e+00 9.80790e+04 1.02959e+05\n",
            " 0.00000e+00 0.00000e+00 5.79500e+03 0.00000e+00 5.88480e+04 9.43810e+04\n",
            " 3.01630e+04 5.33320e+04 1.77200e+04 3.38080e+04 9.06840e+04 4.39750e+04\n",
            " 0.00000e+00 0.00000e+00 5.52600e+03 0.00000e+00 9.34150e+04 4.07620e+04\n",
            " 0.00000e+00 8.63020e+04 0.00000e+00 9.75500e+03 6.99450e+04 2.39500e+03\n",
            " 0.00000e+00 8.03490e+04 8.55540e+04 5.04960e+04 6.77160e+04 9.39470e+04\n",
            " 3.53450e+04 8.10070e+04 1.19513e+05 0.00000e+00 0.00000e+00 0.00000e+00\n",
            " 0.00000e+00 0.00000e+00 1.18895e+05 4.85090e+04 1.00912e+05 9.56490e+04\n",
            " 0.00000e+00 9.04950e+04 0.00000e+00 2.91320e+04 2.38020e+04 8.49920e+04\n",
            " 5.43950e+04 2.67310e+04 4.43290e+04 1.18236e+05 1.13808e+05 6.10000e+02\n",
            " 0.00000e+00 0.00000e+00 1.28870e+04 7.96070e+04 9.09240e+04 4.27330e+04\n",
            " 0.00000e+00 0.00000e+00 1.17714e+05 1.13885e+05 0.00000e+00 3.05110e+04\n",
            " 7.48670e+04 1.19760e+05 8.35600e+03 6.42470e+04 8.86610e+04 4.53900e+03\n",
            " 1.10116e+05 3.32150e+04 9.20010e+04 0.00000e+00 8.17080e+04 7.06410e+04\n",
            " 0.00000e+00 9.12770e+04 2.65440e+04 5.25960e+04 4.75030e+04 8.90560e+04\n",
            " 2.88340e+04 1.10564e+05 5.66380e+04 1.73570e+04 7.40150e+04 1.51960e+04\n",
            " 0.00000e+00 1.08210e+04 0.00000e+00 0.00000e+00 9.59500e+03 9.90520e+04\n",
            " 5.23890e+04 1.19945e+05 9.60050e+04 3.16390e+04 0.00000e+00 8.01870e+04\n",
            " 0.00000e+00 5.82120e+04 6.16720e+04 3.20170e+04 0.00000e+00 5.69440e+04\n",
            " 0.00000e+00 8.65190e+04 4.82100e+03 1.01025e+05 3.07050e+04 0.00000e+00\n",
            " 3.25550e+04 1.03389e+05 0.00000e+00 5.52890e+04 0.00000e+00 0.00000e+00\n",
            " 1.15930e+05 6.64370e+04 9.68000e+04 1.42370e+04 1.98960e+04 1.13045e+05\n",
            " 1.14942e+05 3.17300e+03 8.36110e+04 2.53560e+04 8.86340e+04 2.31400e+03\n",
            " 2.62700e+03 5.20340e+04 0.00000e+00 0.00000e+00 7.95770e+04 1.08201e+05\n",
            " 7.64530e+04 5.76830e+04 9.66100e+04 1.09001e+05 2.62120e+04 4.59710e+04\n",
            " 4.91820e+04 4.99070e+04 3.86200e+04 6.09960e+04 7.39140e+04 1.07392e+05\n",
            " 9.14600e+03 0.00000e+00 1.79240e+04 0.00000e+00 1.16949e+05 2.04760e+04\n",
            " 5.28040e+04 8.84900e+03 9.17240e+04 3.20560e+04 7.48860e+04 0.00000e+00\n",
            " 0.00000e+00 5.21890e+04 8.35590e+04 0.00000e+00 2.03280e+04 0.00000e+00\n",
            " 7.55770e+04 3.36590e+04 1.04341e+05 2.55100e+04 1.89650e+04 8.71610e+04\n",
            " 6.65200e+03 5.57380e+04 0.00000e+00 0.00000e+00 0.00000e+00 6.43200e+04\n",
            " 0.00000e+00 6.86780e+04 7.16970e+04 0.00000e+00 3.47830e+04 3.37720e+04\n",
            " 8.51270e+04 1.36060e+04 3.56470e+04 9.51280e+04 1.40460e+04 4.11940e+04\n",
            " 0.00000e+00 9.61000e+04 1.03900e+05 4.38140e+04 2.46380e+04 0.00000e+00\n",
            " 1.10966e+05 1.59870e+04 5.33690e+04 1.00770e+04 7.15440e+04 1.07000e+02\n",
            " 8.39400e+03 4.14980e+04 1.16002e+05 1.00858e+05 6.74750e+04 8.49700e+03\n",
            " 4.42000e+03 0.00000e+00 5.85370e+04 0.00000e+00 0.00000e+00 1.12016e+05\n",
            " 9.18400e+04 1.12787e+05 0.00000e+00 0.00000e+00 9.29300e+03 0.00000e+00\n",
            " 5.50830e+04 4.87960e+04 0.00000e+00 8.96850e+04 8.53840e+04 9.81080e+04\n",
            " 7.12800e+04 2.75050e+04 2.99810e+04 5.26370e+04 7.68500e+03 5.01880e+04]\n"
          ]
        }
      ]
    },
    {
      "cell_type": "markdown",
      "source": [
        "Atribuindo à variável `anos` o conteúdo do arquivo *carros-anos.txt* após o seu upload e definindo o seu *data type*:"
      ],
      "metadata": {
        "id": "JzsXllhbpaed"
      }
    },
    {
      "cell_type": "code",
      "source": [
        "anos = np.loadtxt('carros-anos.txt', dtype = int)"
      ],
      "metadata": {
        "id": "Q5AMuo6_p_LO"
      },
      "execution_count": 4,
      "outputs": []
    },
    {
      "cell_type": "markdown",
      "source": [
        "Verificando a variável `anos` após a atribuição:"
      ],
      "metadata": {
        "id": "EFoEZSbtqJuK"
      }
    },
    {
      "cell_type": "code",
      "source": [
        "print(anos)"
      ],
      "metadata": {
        "colab": {
          "base_uri": "https://localhost:8080/"
        },
        "id": "5YLdqZxdqLGm",
        "outputId": "f128c422-fb52-43b1-bc66-87bc7306e797"
      },
      "execution_count": 21,
      "outputs": [
        {
          "output_type": "stream",
          "name": "stdout",
          "text": [
            "[2003 1991 1990 2019 2006 2012 2019 2009 2010 2011 2002 2007 2001 2019\n",
            " 2009 2016 2012 2019 2016 2017 2002 2019 1994 1991 2019 2019 2016 2019\n",
            " 2002 1991 1997 1995 2018 1991 2014 1995 2019 2019 2009 2019 2013 2003\n",
            " 2019 2002 2019 2002 2004 2001 2019 2003 2009 2006 2000 2006 2010 1994\n",
            " 2007 2019 2019 2019 2019 2019 2017 2011 2001 1996 2019 1994 2019 2007\n",
            " 1994 2007 1997 2006 2013 1994 2008 2008 2019 2019 1999 2007 1993 1995\n",
            " 2019 2019 2016 2011 2019 2002 2013 2017 2016 2008 2018 2003 2003 2004\n",
            " 2010 2019 2006 2001 2019 2015 2018 2017 1992 2001 1993 1995 2003 2014\n",
            " 2008 2013 2019 2017 2019 2019 2006 2015 2007 2005 2017 1998 2019 1999\n",
            " 2019 2009 2003 1994 2019 1994 2019 2015 1996 1997 1993 2019 1992 1995\n",
            " 2019 1990 2019 2019 1991 1990 2012 2007 2013 2000 2002 1996 1996 2015\n",
            " 1993 2013 2013 2009 2019 2019 2002 1997 1998 2004 1996 2015 2016 2005\n",
            " 1999 1995 1993 2004 2013 1998 2018 2019 2018 2019 1990 2009 1990 2006\n",
            " 2002 1991 1992 2019 2019 2005 2010 2019 2016 2019 2010 1994 2001 2014\n",
            " 1996 1993 1993 2001 2019 2019 2019 2007 2019 2016 2014 2019 2015 2015\n",
            " 1996 2002 2005 1995 1999 2005 2019 1997 1990 2001 2013 2019 2017 2011\n",
            " 2005 2007 1993 1991 1991 1997 2000 2007 2006 2015 2008 2019 1996 2019\n",
            " 2019 2014 2004 2008 2019 2019 2012 2019 1996 2011 2019 2010 2007 1994\n",
            " 2007 2014 1991 2002 1996 1992]\n"
          ]
        }
      ]
    },
    {
      "cell_type": "markdown",
      "source": [
        "Importando o módulo `datetime` do Python:"
      ],
      "metadata": {
        "id": "-MUkeVyirl38"
      }
    },
    {
      "cell_type": "code",
      "source": [
        "import datetime"
      ],
      "metadata": {
        "id": "Iw9p08T7r97r"
      },
      "execution_count": 6,
      "outputs": []
    },
    {
      "cell_type": "markdown",
      "source": [
        "Calculando a quilometragem média por ano:"
      ],
      "metadata": {
        "id": "5r7xrMvwqALr"
      }
    },
    {
      "cell_type": "code",
      "source": [
        "current_date = datetime.datetime.now()\n",
        "\n",
        "km_media = km / (int(current_date.strftime('%Y')) - anos)\n",
        "\n",
        "print(km_media)"
      ],
      "metadata": {
        "colab": {
          "base_uri": "https://localhost:8080/"
        },
        "id": "nheUBmVNqpzp",
        "outputId": "505cc4d5-7f9d-449f-d419-9439a7a0914d"
      },
      "execution_count": 19,
      "outputs": [
        {
          "output_type": "stream",
          "name": "stdout",
          "text": [
            "[2.33736842e+03 1.84258065e+02 1.16009375e+03 0.00000000e+00\n",
            " 1.60981250e+03 1.07280000e+03 0.00000000e+00 5.96915385e+03\n",
            " 8.26641667e+03 3.45254545e+03 6.42950000e+02 5.36800000e+02\n",
            " 4.27490476e+03 0.00000000e+00 3.18900000e+03 1.92678333e+04\n",
            " 4.64490000e+03 0.00000000e+00 6.18100000e+03 3.03460000e+03\n",
            " 5.05965000e+03 0.00000000e+00 3.50282143e+03 3.32125806e+03\n",
            " 0.00000000e+00 0.00000000e+00 9.65833333e+02 0.00000000e+00\n",
            " 2.94240000e+03 3.04454839e+03 1.20652000e+03 1.97525926e+03\n",
            " 4.43000000e+03 1.09058065e+03 1.13355000e+04 1.62870370e+03\n",
            " 0.00000000e+00 0.00000000e+00 4.25076923e+02 0.00000000e+00\n",
            " 1.03794444e+04 2.14536842e+03 0.00000000e+00 4.31510000e+03\n",
            " 0.00000000e+00 4.87750000e+02 3.88583333e+03 1.14047619e+02\n",
            " 0.00000000e+00 4.22889474e+03 6.58107692e+03 3.15600000e+03\n",
            " 3.07800000e+03 5.87168750e+03 2.94541667e+03 2.89310714e+03\n",
            " 7.96753333e+03 0.00000000e+00 0.00000000e+00 0.00000000e+00\n",
            " 0.00000000e+00 0.00000000e+00 2.37790000e+04 4.40990909e+03\n",
            " 4.80533333e+03 3.67880769e+03 0.00000000e+00 3.23196429e+03\n",
            " 0.00000000e+00 1.94213333e+03 8.50071429e+02 5.66613333e+03\n",
            " 2.17580000e+03 1.67068750e+03 4.92544444e+03 4.22271429e+03\n",
            " 8.12914286e+03 4.35714286e+01 0.00000000e+00 0.00000000e+00\n",
            " 5.60304348e+02 5.30713333e+03 3.13531034e+03 1.58270370e+03\n",
            " 0.00000000e+00 0.00000000e+00 1.96190000e+04 1.03531818e+04\n",
            " 0.00000000e+00 1.52555000e+03 8.31855556e+03 2.39520000e+04\n",
            " 1.39266667e+03 4.58907143e+03 2.21652500e+04 2.38894737e+02\n",
            " 5.79557895e+03 1.84527778e+03 7.66675000e+03 0.00000000e+00\n",
            " 5.10675000e+03 3.36385714e+03 0.00000000e+00 1.30395714e+04\n",
            " 6.63600000e+03 1.05192000e+04 1.58343333e+03 4.24076190e+03\n",
            " 9.94275862e+02 4.09496296e+03 2.98094737e+03 2.16962500e+03\n",
            " 5.28678571e+03 1.68844444e+03 0.00000000e+00 2.16420000e+03\n",
            " 0.00000000e+00 0.00000000e+00 5.99687500e+02 1.41502857e+04\n",
            " 3.49260000e+03 7.05558824e+03 1.92010000e+04 1.31829167e+03\n",
            " 0.00000000e+00 3.48639130e+03 0.00000000e+00 4.47784615e+03\n",
            " 3.24589474e+03 1.14346429e+03 0.00000000e+00 2.03371429e+03\n",
            " 0.00000000e+00 1.23598571e+04 1.85423077e+02 4.04100000e+03\n",
            " 1.05879310e+03 0.00000000e+00 1.08516667e+03 3.82922222e+03\n",
            " 0.00000000e+00 1.72778125e+03 0.00000000e+00 0.00000000e+00\n",
            " 3.73967742e+03 2.07615625e+03 9.68000000e+03 9.49133333e+02\n",
            " 2.21066667e+03 5.13840909e+03 5.74710000e+03 1.22038462e+02\n",
            " 3.21580769e+03 3.62228571e+03 3.05634483e+03 2.57111111e+02\n",
            " 2.91888889e+02 4.00261538e+03 0.00000000e+00 0.00000000e+00\n",
            " 3.97885000e+03 4.32804000e+03 3.18554167e+03 3.20461111e+03\n",
            " 3.71576923e+03 1.55715714e+04 4.36866667e+03 2.70417647e+03\n",
            " 2.13834783e+03 1.84840741e+03 1.33172414e+03 3.38866667e+03\n",
            " 8.21266667e+03 4.47466667e+03 2.28650000e+03 0.00000000e+00\n",
            " 4.48100000e+03 0.00000000e+00 3.65465625e+03 1.57507692e+03\n",
            " 1.65012500e+03 5.53062500e+02 4.58620000e+03 1.03406452e+03\n",
            " 2.49620000e+03 0.00000000e+00 0.00000000e+00 3.06994118e+03\n",
            " 6.96325000e+03 0.00000000e+00 3.38800000e+03 0.00000000e+00\n",
            " 6.29808333e+03 1.20210714e+03 4.96861905e+03 3.18875000e+03\n",
            " 7.29423077e+02 3.00555172e+03 2.29379310e+02 2.65419048e+03\n",
            " 0.00000000e+00 0.00000000e+00 0.00000000e+00 4.28800000e+03\n",
            " 0.00000000e+00 1.14463333e+04 8.96212500e+03 0.00000000e+00\n",
            " 4.96900000e+03 4.82457143e+03 3.27411538e+03 6.80300000e+02\n",
            " 2.09688235e+03 3.52325926e+03 6.10695652e+02 2.42317647e+03\n",
            " 0.00000000e+00 3.84400000e+03 3.24687500e+03 2.08638095e+03\n",
            " 2.73755556e+03 0.00000000e+00 2.21932000e+04 1.45336364e+03\n",
            " 3.13935294e+03 6.71800000e+02 2.46703448e+03 3.45161290e+00\n",
            " 2.70774194e+02 1.65992000e+03 5.27281818e+03 6.72386667e+03\n",
            " 4.21718750e+03 1.21385714e+03 3.15714286e+02 0.00000000e+00\n",
            " 2.25142308e+03 0.00000000e+00 0.00000000e+00 1.40020000e+04\n",
            " 5.10222222e+03 8.05621429e+03 0.00000000e+00 0.00000000e+00\n",
            " 9.29300000e+02 0.00000000e+00 2.11857692e+03 4.43600000e+03\n",
            " 0.00000000e+00 7.47375000e+03 5.69226667e+03 3.50385714e+03\n",
            " 4.75200000e+03 3.43812500e+03 9.67129032e+02 2.63185000e+03\n",
            " 2.95576923e+02 1.67293333e+03]\n"
          ]
        }
      ]
    },
    {
      "cell_type": "markdown",
      "source": [
        "Verificando o tipo de dado de `km_media`:"
      ],
      "metadata": {
        "id": "u0WpUkiOwhCn"
      }
    },
    {
      "cell_type": "code",
      "source": [
        "type(km_media)"
      ],
      "metadata": {
        "colab": {
          "base_uri": "https://localhost:8080/"
        },
        "id": "EUbUpHyPwkIf",
        "outputId": "b59ba362-5583-497e-9c76-127cf3396e80"
      },
      "execution_count": 20,
      "outputs": [
        {
          "output_type": "execute_result",
          "data": {
            "text/plain": [
              "numpy.ndarray"
            ]
          },
          "metadata": {},
          "execution_count": 20
        }
      ]
    }
  ]
}